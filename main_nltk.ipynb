{
 "cells": [
  {
   "cell_type": "markdown",
   "metadata": {},
   "source": [
    "# Analyse des sentiments Twitter avec NLTK et GetOldTweets"
   ]
  },
  {
   "cell_type": "code",
   "execution_count": 1,
   "metadata": {},
   "outputs": [],
   "source": [
    "import matplotlib.pyplot as plt\n",
    "from collections import Counter\n",
    "import string\n",
    "\n",
    "from nltk.corpus import stopwords\n",
    "from nltk.sentiment.vader import SentimentIntensityAnalyzer\n",
    "from nltk.stem import WordNetLemmatizer\n",
    "from nltk.tokenize import word_tokenize\n",
    "\n",
    "%run twitter_analysis.ipynb"
   ]
  },
  {
   "cell_type": "markdown",
   "metadata": {},
   "source": [
    "## Obtenir des tweets en utilisant l'internet"
   ]
  },
  {
   "cell_type": "markdown",
   "metadata": {},
   "source": [
    "#### la fonction 'get_tweets' a deux paramètres\n",
    "#### le 1er est le mots a rechercher\n",
    "#### le 2eme le nombre maximum des tweet"
   ]
  },
  {
   "cell_type": "code",
   "execution_count": 2,
   "metadata": {},
   "outputs": [
    {
     "data": {
      "text/plain": [
       "'She\\'s trying to distract attention from Britain\\'s status as 2nd highest covid19 death rate in world by starting an international incident, hopefully leading to war, because she knows it is illegal to wear a mask in France. If even #one of our @astros are not cleared for #COVID19 ...SHUT IT DOWN. #wearehouston #BeSafe Surely we would be asking more questions no? Of course not, because it was the 3rd biggest hoax, behind Covid19 and 911. That\\'s why people. The #democrats are weaponizing #COVID19 Está recaudando bien ! Gracias a Covid19 DEAR CANADIANS: The Canada-United States border will remain closed for non-essential travel until at least August 21st 2020 #COVID19 #StayAtHomeSaveLives #StayHome #StayAtHome #ijcovid19 #drkemiolunloyo Seguimos venciendo al covid en #Nicaragua juntos contra el #COVID19 @ElCuervoNica @GuerreroCuba @taniasandinista @FloryCantoX @CamilaPlomo @LunaSandinista8 @TPU19J @ChalecosAmarill @indio_nica @BayamoSomos @CubanoAPie2 @GarrielSoler El riesgo de enfermarte de #COVID19 con un cuadro grave es más probable si tienes obesidad. Hipertensión, diabetes, eres mayor de 60 años, fumas o estas embarazada. Para reducir este riesgo: ¡Haz ejercicio!  El gobierno es aristocratico y poco eficiente #GobiernoDeInutiles #COVID19 #QuedateEnCasa #ApoyoParaElDesempleo #robosalobrero Less than 72 hours!!! 56 of 60 Sub goal!!! !beard #COVID19 #streaming #game #CallofDutyModernWarfare https://twitch.tv/thecooch4 How about actually opening up, by ditching stupid restrictions, allowing people their rights to access #hydroxychloroquine and stopping the @abcnews propagandizing #covid19 fear? That would help. Les clients et employés des bars de #Montréal ont dû attendre 5h pour se faire dépister - le non respect de la #DistanciationPhysique, c\\'est ça le plus gros problème actuellement / #COVIDIOTS #Pandémie #COVID19  A imunidade pra #COVID19 pode durar só TRÊS MESES? Que porra de doença maldita é essa?  Let\\'s ask real questions: - Why are deaths going down, confirmed cases rising? - Why is reporting skewed between CDC & JH? (JH website up prior COVID19) - Why is Wiki/NYT COVID19 data showing CA deaths at lows 7/5, highs 7/6-9 (Newsome), lows 7/12? - Why can\\'t we get real data? The look on Craig Melvin\\'s face is priceless. It was difficult for him to hide his surprise and disgust that so many pediatricians said kids should go back to school regardless of #COVID19. A great moment of shock and awe. Champion level safety! @LFC @HSELive #YNWA #COVID19ireland #COVID19  Fracasa \"Plan Contra el Covid-19\" implementado por Gobernadores Anti-AMLO https://bit.ly/32k2q4b #Gobernadores #AMLO #Covid19 Fucking Fools! #covid19 #FauxNews #RealityCheck https://twitter.com/minesoh/status/1283065865219391489?s=21 #Mendoza Se registraron 44 nuevos casos positivos / TOTAL 348 casos positivos confirmados #COVID19 #AlMomento | Se registran *285 nuevos casos y 29 defunciones por #Covid19. Se tienen un total de mil 741 casos activos. #QuedateEnCasa El Narco Gobierno de Juan orlando hernandez ha ejecutado 4,589.2 millones de lempiras en el marco de la pandemia de #COVID19, según la secretaría de Finanzas. #FueraJOH #DondeEstaElDinero #dondeestanloshospitales los culpables @usembassyhn @realDonaldTrump apoyar Narcos #Covid_19mx #COVID19 #Gatell Conferencia de Prensa #COVID19 | 14 de julio de 2020  \"The first #COVID19 vaccine tested in the U.S. revved up people’s immune systems just the way scientists had hoped, researchers reported Tuesday -- as the shots are poised to begin key final testing.\" @AP Bangkok Post headlines on Wednesday: Plug virus loopholes, orders PM https://www.bangkokpost.com/thailand/general/1951364/plug-virus-loopholes-orders-pm Govt pins blame on Egypt embassy https://www.bangkokpost.com/thailand/general/1951360/govt-pins-blame-on-egypt-embassy Prayut lures Chinese back https://www.bangkokpost.com/thailand/general/1951368/prayut-lures-chinese-back #COVID19 #โควิด19 #Thailand Nem parece que eu quase morri #WhatsApp #YourEyesTellNow #MapOfTheSoul7TheJourney #whatsappdown #COVID19  Ahora hablando en serio. Soy hipocondríaco y desde febrero no me separo del termometro. Me llevo todo el día mirando cosas sobre la #COVID19 . Me voy a volver loco. #WhatsApp #YoQuieroMi10xCiento #COVID19 #14juillet #survivor2020final The #COVID19 pandemic poses a balancing act for state and local economies — do we open back up and to what degree? Check out #DennisTaylor ‘s answer. #DebateforCongress #ksn Think of this: Kindergarteners come home with undiagnosed #COVID19. Passes it on to expecting mom, grandmom, and aging Neigbor. NOW what?  Reporte diario de @SSalud_mx sobre #COVID19 al 14/julio  Bleak picture for #Hawaii’s hard hit economy — latest forecast says it will take 9 years for employment numbers to reach pre-pandemic level #COVID19  pienso lo mismo...y creo que la rabia da impotencia, y esa mezcla en muchos genera algo, y ese algo, creo que será el #EstallidoSocial2 y sin importar confinamiento, ni covid19, ni nada. #TercaDetremuraSDV #COVID19  Canadian Politicians can adopt & implement #emergency #legislation \"due to #covid19\" like they do with other critical measures. They are just putting #corporations &amp; #elite b/f citizens lives. NDP tried in 2017. Recover the bill &amp; make it #law #COVID19 #MaskUp I got tested last Monday; got the results on Friday. #COVID19  #UEMOA - Malgré la pandémie de #Covid19 qui grève les économies de tous les pays du monde, les ministres de l’Union tablent sur une croissance économique cette année de l’ordre de 2,4%, contre 6,6% prévu en début d’année.  There won\\'t be a national plan unless you and Biden get together and present one. Although I live in Florida and things weren\\'t bad yet, I watched your daily briefings and felt better about the outcome of covid19 for all of us. Thank you.  #EnVivo #ConferenciaDePrensa \"Informe diario sobre coronavirus COVID19 en México\". 14.1 #Mxplay https://youtu.be/J3XnrxkFVLc http://facebook.com/canalcatorcemx Just finished the series, great performance J, get well soon..! @TheAmitSadh simply @juniorbachchan #Breathe2 #BreatheIntoTheShadows @PrimeVideoIN #COVID19 #Coronavirus #COVID19 corte técnico informativo del 14 de julio de 2020. Fuente: @SSalud_mx Thread on the still ongoing rally in Baku, with calls to shoot onto Stepanakert (#Karabakh) and brief breaking in into the parliament building. No \"sight\" of Covid19.  #COVID19 #under500gang #under1kgang #trump2020 #BlueLivesMatter #America #KeepAmericaGreat2020 #AllLivesMattter #NovemberIsComing #BackTheBlue #Covid_19 @realDonaldTrump @reaIDonalTrump_ There has never been a more important time for POTUS to address Covid19 and the families and health care workers who are struggling. WAKE UP!!! 138,000 Americans are dead on your watch. Hey dude, @realDonaldTrump here is the VOTER FRAUD you’re looking for! Right inside the #GOPCorruptionOverCountry gang! #COVID19 not China virus! But hey, I’m sure he’s a very fine fellow. Only the best! #AmericaStrongerWithBiden #VoteByMail2020 #VoteBlueToSaveLives #Resist  #INFO+ IPS autoriza el tercer pago de compensaciones para subsidios de trabajadores cesados #COVID19 #QuedateEnCasaPy 12/612HD de Tigo TV 8 de Copaco 15 Claro IPTV y 12 Personal TV y Flow http://gen.com.py @GuillermoGrance , @SusanParadeda New study suggests air pollution can increase #COVID19 risks. #environmentaljustice #environmentalracism El Gobierno Federal reconoce las aportaciones que la Benemérita Universidad de Guadalajara @udg_oficial ha realizado, en la lucha contra la #Pandemia del #COVID19 @rvillanueval #Floridacoronavirus #Florida #COVID19 #MaskMoaners ¿Cómo el mensaje de #Fátima nos ayuda a enfrentar la pandemia? el Obispo Auxiliar de #Oporto #Portugal, Mons. Vitorino Soares, nos explica a los fieles cómo el mensaje de Fátima puede ayudar a enfrentar la pandemia de #COVID19 https://www.radiomariacol.org/como-el-mensaje-de-fatima-nos-ayuda-a-enfrentar-la-pandemia-obispo-responde/  What are your predictions for how covid19 will end?  This is amazing. If anybody doubts that a hydroxychloroquine cocktail with zinc and an antibiotic will cure Covid19, what more evidence do you need?  Libs strategy is working out really well. Get #MSM news cycles occupied with #COVID19 fear porn while Biden escapes debates, questions about Hunter, China and Ukraine. Here is a view from today\\'s Bing COVID tracking graphs for each country stitched together.  #Mendoza #COVID19 Informan 44 casos positivos en el último reporte oficial.  #educacion #covid19 #SiempreMásParaLosDemás #educaciondecalidad #innovacion #SoyArrupe #AlertaCOVID19SV @ColPadreArrupe @EducacionSV @DrZweliMkhize hi minister is it ok to wear sleeping mask ,to help slow the spread of covid19  120,000 cases & 3000 deaths. #Kemps blind allegiance to #Trump instead of believing in science has cost hundreds of lives, delayed school reopening, set back reopening of our economy. #gapol #COVID19 #coronavirus Schools can’t even control lice outbreaks, yet we think they can handle #COVID19??? I\\'m so sick of ALL OF THEM! I want them ALL TF out of DC. GTFOH and go to FL! And WHY TF hasn\\'t he gotten #COVID19 yet, when so many folks around him have! #MaryTrump #TrumpVirus #Moderna #coronavirus #vaccine shows \\'promising\\' results in published Phase 1 study - CNN #COVID19 #pandemic http://PandemicStock.com #domainname Anvisa reforça uso de ivermectina não é recomendado contra o coronavírus A Agência Nacional de Vigilância Sanitária (Anvisa) reforçou que o uso de ivermectina não é recomendado para o tratamento de pacientes com... https://www.divicity.com/cadernos-especiais/coronavirus/anvisa-reforca-que-uso-de-ivermectina-nao-e-recomendado-contra-o-coronavirus.html #covid_19 #covid19 #invermectina Wadanda suka takurawa jama\\'a akan Covid19 suka Tara kudade domin su azurta Kansu, Ya Allah Kada ka basu damar cin kudaden nan ta Kwanciyar Hankali, Koda kuwa wanene Ya Allah@ US hospitaliztions rising #COVID19 #COVID se siguen sumando los alcaldes contagiados por covid19 , ahora es el turno del alcalde se Ambato #Africa #COVID #unemployment #COVID19  Aiea Kama’aina Kids program temporarily closed after 6-year-old tests positive for COVID-19 – Honolulu, Hawaii news, sports & weather | #covid19 | #kids | #childern https://parentsecurityonline.com/aiea-kamaaina-kids-program-temporarily-closed-after-6-year-old-tests-positive-for-covid-19-honolulu-hawaii-news-sports-weather-covid19-kids-childern/ Ventiladores hechos en México para hacer frente al #Covid19 #CienciaPorMéxico Aiea Kama’aina Kids program temporarily closed after 6-year-old tests positive for COVID-19 – Honolulu, Hawaii news, sports & weather | #covid19 | #kids | #childern This comedian has got a really good point! How anti-maskers would sound if they were on the Titanic after hitting the iceberg! #COVID19 #AntiMaskers #comedy #TitanicCovidComparison If #AgentOrange considers NY poorly managed early in the pandemic, I can only assume he feels the same about @GovRonDeSantis as FL continues to break all of NY’s records. Right? Especially since Ronnie boy is doing more to spread #COVID19 than he is to quell it. #PressConference #Mendoza y 44 casos nuevos de #COVID19. Seguimos yendo a los bares? Loss of smell, taste, and conjunctivitis. That’s right, add this to your list of #COVID19 symptoms to look out for. Check out the article! https://www.ncbi.nlm.nih.gov/pmc/articles/PMC7194535/pdf/main.pdf #optometry #healthcare #eyecare 7/15 08:58時点のコロナの感染数と死者数 大分県 60人/1人 三重県 48人/1人 熊本県 48人/3人 佐賀県 45人/0人 山口県 36人/0人 香川県 31人/0人 長崎県 31人/1人 青森県 30人/1人 詳細はこちら➔https://hmts.jp/corona #新型コロナウイルス #COVID19 Incredible feat that is this collection of 43 essays exploring #COVID19 is OUT today in open access: https://ruor.uottawa.ca/handle/10393/40726. Honoured to have contributed an essay on corporate law Kudos &amp; thanks to amazing team that made it happen. @DrCiviluOttawa @uocommonlaw @UOdroitpublaw The fact that deaths are not recorded based on/ including underlying conditions or ACTUAL cause, tells me all I need to know. #COVID19 See, #COVIDIOT runners, there are three types of UV light outdoors. UVA / UVB can cause skin cancer and whatnot. UVC, which readily disables #COVID19 gets BLOCKED by the ozone layer! You spewing fluids outdoors among others means you could spread the virus. #jogging #CoronavirusArgentina #COVID19 #coronavirus #Coronaviru #Covid19usa #Covid_19mx Evidencia científica sobre el dióxido de cloro https://medicinadeltercermilenio.blogspot.com/2020/07/dioxio-de-cloro-covid-19.html?m=0 https://medicinadeltercermilenio.blogspot.com/2020/06/oxidantes-versus-covid19.html?m=0 https://medicinadeltercermilenio.blogspot.com/2020/06/oxidantes-y-el-covid-19.html?m=0 What the hell is ‘normalcy’?! Sounds fake and not to be trusted. #COVID19 #vaccine \"Se pretende georeferenciar cada caso positivo y sus contactos en cada área con el apoyo de las autoridades locales, en coordinación con el sistema de salud y demás entidades, para establecer estrategias y cortar la transmisión del virus\", ministro Sucre. #NoticiasTVN #COVID19  .@DrDanielGollan: “Estamos revisando los números porque aparecen más casos de #COVID19 pero no de camas ocupadas, que hemos duplicado las que había disponibles en la provincia y todavía faltan incorporar 150 camas más” How does one online date or offline date for that matter during COVID19? Add Plants! Add Positive Energy! http://bit.ly/2QDHlKn #businessdevelopment #homedecor #homefurnishings #digitalmarketing #bosslady #designinfluencer #influencermarketing #businesstips #dailydoseofdesign #officefurniture #luxurystyle #successtips #homebiz #COVID19  O #COVID19 #VaiPassar, BOMBINHAS/SC, Dubai Bungalows Bombinhas, Via: #todeferias, COMPRAR: http://www.booking.com/hotel/br/dubai-bungalows-bombinhas.pt-br.html?aid=817382 This sounds like a bate, but I’m going to bite. So Your father entered the United States Illegally. With high levels of COVID19 out breaks along the boarder states &amp; in Mexico. To travel 2,800 mile across the country to see you. We can’t even be with love ones in our own state. #14Jul #WhatsApp #QuedateEnCasa #COVID19 si todos nos infectamos no hay fiesta así que conciencia usa la mascarilla  The number of infected people is high in areas not masked. You can\\'t use a scarf or just cloth. Let\\'s put on a mask. #COVID19 Conferencia Coronavirus #COVID19 | 14/07/20  https://cutt.ly/Mp1f8tn Un artículo en lenguaje sencillo, sobre el efecto de las torrenciales lluvias sobre el suelo, y las implicaciones en la producción de alimentos en tiempo de covid19 It’s also a great point since there is not a single documented case in the entire world of a child spreading #COVID19 to an adult. Combined with the fact that #Coronavirus cases in children are so low they cannot quantified... The #facts support @RealWayneRoot’s argument here. The #WorldHealthOrganization Says Reschedule Cannabis: Will The UN Agree? - http://cannabistical.com/the-world-health-organization-says-reschedule-cannabis-will-the-un-agree/ #Article #CannabisReform #COVID19 #Global #Legality #MarijuanaNews #NewsAboutMarijuana #Newsletter #UnitedNations Cannabistical: of or concerning cannabis. Oh yeah. Trump has done a great job with #COVID19 pandemic. Jan: Under control. April: Will go away like a Miracle May: ‘if we didn’t do any testing we would have very few cases’. July: Threaten Schools but has no idea how to safely open schools. Everyone is lying. 138,358 death Just this . . . #COVID19  Long phone chat / watching TikToks with #daughters #COVID19 #lockdown Stunning! #Texas #Coronavirus Numbers Show #COVID19 Less Lethal than Last Two #Flu Seasons https://www.thegatewaypundit.com/2020/07/stunning-texas-coronavirus-numbers-show-covid-19-less-lethal-last-two-flu-seasons/?utm_source=Twitter&amp;utm_campaign=websitesharingbuttons via @gatewaypundit i care about politicians dealing with the #COVID19 crisis the Conservatives have not been doing this, they have been focusing on Trudeau, this is what matters now. Gobernador de Tamaulipas deja aislamiento tras recuperarse de #COVID19. #Coronavirus #Latinus #InformaciónParaTi Conferencia de Prensa #COVID19 | 14 de julio de 2020 #GraciasPorCuidarnos Looking for a #Lawyer that can handle maybe a class action against @Etsy. Looks like I’m not alone in this. Out there are hundreds of sellers with a ton of issues with them. #PressConference #COVID19 #lawyers #scotthardy I was set to circumnavigate the US this year driving, my forte, now on hold—this Covid19 is so damn inconvenient—- No se preocupen tanto. En #Tucuman esconden tanto los casos de #Covid19 positivos que al final no vas a cumplir la pena... Reporte Nacional en #Chile hoy #14Julio x el #coronavirus #Covid19Chile #COVID19 #Covid_19 #COVIDー19 #COVID__19 #COVID20 #SARS_CoV_2 #SARSCoV2 @radiopaulina @meganoticiascl @24HorasTVN #QuedateEnCasa #CuidemosTodosDeTodos #CuidemosnosEntreTodos #CuidemonosTodos #Cuidate  @profesorlupa2 @EduardoRotter profe si el tapabocas, agua y el jabon son las herramientas mas eficacez contra covid19 xq los claps no incluye jabon y/o tapabocas x ejemplo?, xq no se crea un plan nacional de abastecimiento total de agua? asi ganaramos esta guerra... Wow, some labs discovered not even reporting correct numbers. #COVID19  #COVID19 #Coronavirus Procedimiento de actuación ante un posible caso de #COVID19 en lugares de trabajo, según el @msaludpy The 1% is willing to sacrifice the lives of the other 99% to save their wealth. What if we just take their wealth and save our lives? Seems like less lives lost, serious reform to the global economy, and we get to create a better world for the next generation. #COVID19 Everything he said he started veterans choice that was Obama he said he had the virus under control oh that\\'s right that was Ebola and that was Obama Covid19 is still running rampant and Trump is doing nothing Muy grande su esfuerzo como gobernante pero me parece pertinente que convoque a los directores de clínicas y hospitales y escuchar sus conceptos porque está muriendo tanta gente y que proponen desde la ciencia médica. En Córdoba hay gente muy valiosa que vale la pena escuchar. ■抗体検査を売り込んでいる人々が存在する 7/15 Exactly. #COVID19 #ReopeningSchoolsSafely Semoga jalan pencegahan #covid19 segera bisa memberi solusi paripurna  https://www.joemygod.com/2020/07/trump-admin-orders-hospitals-to-bypass-cdc-and-send-all-covid-patient-data-to-hhs-central-database/ This is a blatant attempt to hide the truth about COVID-19 in order not to damage the president\\'s chances. To be clear: tRump IS WILLING TO RISK YOUR LIVES IN ORDER TO BE REELECTED. #COVID19 #AmericaOrTrump #coronavirus #CDC Super inspired to see @OUJIFEI \\'s 1-yo start-up, mass-manufacturing 3D printed Swab for the high demand of COVID19 testing in the US. It started with the Cilllia (CHI2016), but it\\'s impressive how he advanced it way further to be in the REAL use! Congrats! http://optindustries.com/product/ In the news: Arlington Sees Highest One-Day Coronavirus Case Total Since May http://link.paperbirds.me/RbdHJr #coronavirus #COVID19 #2019ncov In the news: Pa. Health Dept. Announces 929 Coronavirus Cases, Statewide Total Climbs To 96671 http://link.paperbirds.me/RbdHKX #coronavirus #COVID19 #2019ncov In the news: The Flu May Linger in the Air, Just Like the Coronavirus http://link.paperbirds.me/RbdHKs #coronavirus #COVID19 #2019ncov New Video Uploading now https://www.youtube.com/channel/UCWWmf0jEWG-r54BFAH8bZMg #callofduty #ModernWarfare #Quarantine #Playstation4 #rage #youtube #like #subscribe #follow #share #COVID19 #twitchtv In the news: Baby Was Infected With Coronavirus in Womb, Study Reports http://link.paperbirds.me/RbdHLD #coronavirus #COVID19 #2019ncov And Trump is \"only\" going to kill more Americans due to his pathethic and ultra sad management of the covid19 crisis.  Starting Friday, July 17, two new testing sites will provide free testing for #COVID19 at South Mountain Park, 10919 S. Central Avenue and Maryvale High School, 3415 N 59th Ave. Pre-registration will be available soon at http://azhealth.gov/SurgeTesting. I don\\'t feel sorry for U or Ur sick, stupid, covid19 infected son and do U want to know why? I\\'ll tell you why Chuck. Because Ur son got Covid19 by NOT WEARING A MASK! And do U know who told him not to wear a mask Chuck? You and Trump! Tell him you love him before he dies, alone! Taking any bar exam with the #COVID19 is like been trained to be a \"Kamikaze\" or \"Terrorist\" or a member of the \"Mau Mau rebellion\" by putting my personal interest and the bar examiners interest before and above all things, even the health and safety of other members of society. US Covid-19 Daily Statistics Confirmed Cases: 32 Total Deaths: 1 Total Recoveries: 1,031,939 New Confirmed Cases: 1 Deaths Today: 0 Recoveries Today: 25,613 #coronavirus #covid19 Glad to have comedy to keep pushing me forward. I will not stop!! Keep my two forward. #jlohaoutloud #femalecomedian #longislandcomedy #standup #laughs #iamsofunny #laughter #zoommeeting #zoomcodes #watchme #COVID19 #QuarantineLife #coronavirus #islandgirl Ahh faxes,email,spreadsheets and #Palantir are hampering US data collection #covid19 (also link to CDC report )  #YundaEscucha | Las obras continúan. Junto a @lacentralec y @Salud_Ec iniciamos el proyecto comunitario para el control del COVID19. Inauguramos varias obras que benefician al sur de la ciudad, y recibimos la donación de insumos de la hermana República de China.  #Trump continua a dire che se facessero meno test, avrebbero meno casi. #sbronzitutti #coronavirus #COVID19  You sat on your ass for 8 weeks denying the covid19: a hoax, a Democrat hoax, will disappear in five days, 5 cases will be 0 in a few days, when the weather gets warm it will disappear, etc. 3 mill Americans infected. 140,000 Americans dead. Were u right? covid19 disappeared? Pinche COVID19 si hubiera querido desperdiciar mi juventud, hubiera visto Naruto.  #LoÚltimo Inicia rueda de prensa de la @SSalud_mx sobre el #COVID19  Was putting covid patients in nursing homes scientific as well? #COVID19 #CuomoKilledGrandma #MAGA2O2O Is this related to skewing the numbers to send kids back to school or for his re-election? #COVID19  #POSATAZA #APOYATAZA #tEJIDOAMANO #lana #Argentina #Olivos #martinez #Envios #Venta #Cuarentena #COVID19  The Financial Cohort and COVID-19 Dynamics > https://tinyurl.com/y9g79tvb $C $JPM $GS $WFC $BAC #stocks #Covid19 #investing #howtotrade This needs to spread @POTUS @reaIDonalTrump_ @realDonaldTrump @JoeBiden #COVID19 #under500gang #under1kgang #trump2020 #BlueLivesMatter #America #KeepAmericaGreat2020 #AllLivesMattter #NovemberIsComing #BackTheBlue #Covid_19 2018 evveun manaa = Blocking Human Right 2020 evvun manaa = Blocking Covid19 End State = No one on the Streets. Easy to Govern Conferencia de Prensa #COVID19 | 14 de julio de 2020 #GraciasPorCuidarnos Sri Lanka\\'s done well, managing the global #COVID19 pandemic and its spread. Let\\'s hope there will be no need for a second lockdown in the country where citizens have been quite cooperative in the implementation of the COVID measures. @AfghanistanInLK He @realDonaldTrump doesn’t want the facts on #COVID19 numbers released to the public because it makes him look worse that the #COVID19 numbers continue to rise while he tries to ignore it...he can’t control reality like he could in his reality tv show so he’ll cover it up  @channelstv #COVID19Nigeria #COVID19 Nigeria cases are fake Failed Nation Lab test error led to wrong #Covid19 diagnosis: TTSH https://bit.ly/2ZuVgsd  Tokyo Covid19 alarm seviyesini en yüksek seviyeye çıkarttı - Asahi  Se a vacina for na bunda vou até comprar uma calcinha bem linda pra esse evento #vacina #COVID19 Call of Doody https://twitch.tv/toochee_ come chill with me nice chill stream with good people.. #callofduty #toochee #cheesesquad #covid19 #asmr This is what we trained for. This is what we do every day, #COVID19 is just another name for it. I’m blessed to be a physician and care for people in a way that is very unique. - Dr. Omayra Mansfield, CMO at AdventHealth Apopka and AdventHealth Winter Garden. @realDonaldTrump this is fine! #COVID19 #coronavirus Every Governor, local government & Medical Professionals who refused to allow Hydroxychloriquine to he prescribed, IS RESPONSIBLE for a great % of deaths within their reach. They shamed and \"silenced\" professionals who were using it with success. #Hydroxychloroquine #COVID19 Presidente Maduro anunció cuarentena radical para el Distrito Capital y estado Miranda por aumento de casos de la Covid19 A partir de este miércoles 15 de julio, tras analizar la propuesta formulada por la Comisión… https://www.instagram.com/p/CCpDj7fhaaf/?igshid=cuzljpwwlqys 10 ways to raise a confident daughter: https://qoo.ly/374c4d #freedom #endsextrafficking #stopmoderndayslavery #endchildsextrafficking #stophumantrafficking #lasvegas #COVID19 #nonprofit #endtrafficking #raiseyourvoice #humantraffickingawareness #humantraffickingisreal #human #COVID19 #NuevoLaredo #Tamaulipas #Mexico #monterrey #NuevoLeon #paisanos #PuenteInternacional2 Mira la transmisión de @SSalud_mx: Conferencia de Prensa #COVID19 | 14 de julio de 2020 #GraciasPorCuidarnos July 14th, 2020 Edition https://washingtonrambler.com/july-14th-2020-edition/ via @TheDCRambler #COVID19 #SchoolReopening #newsletter #subscribe #politics #f Foto from 1918 pandemic ( Colored by me) #WearADamnMask #COVID19 #MasksSaveLives #coronavirus #WhatsApp #WearAMaskSaveLives Reino Unido 100 libras = 700 reais no Rio de Janeiro 100 reais = zero porque só vejo gente na praia sem máscara e nada de multa. #COVID19 #coronavirusBR #1918Pandemic #COVID19 At Mare Island in #SanFrancisco, sheets were hung in barracks to screen men from each other’s breathing. Excerpt from The Great Influenza: The Story of the Deadliest Pandemic in History by John M. Barry https://a.co/bZWPYyz How to tell @AshBloomfield is back at work this dudes five steps ahead of #COVID19. #nzpol This afternoon, I visited the Port of New Orleans, a recipient of a @fema Port Security Grant, who briefed me on their current operations. With #COVID19, the tour of @PortNOLA was given virtually with VR googles! Thank you for your hospitality and the great work you do. – at Port Of New Orleans Building ¡Fíjate si la situación en #Cuba está mala que los cubanos de la Florida prefieren enfrentar el #COVID19 que virar para la isla! #SocialismoEsMiseria, #AbajoLaDictadura Toujours pareil avec nos responsables! #PoncePilateEtSesLavabos parlent, parlent, parlent, mais rien ne se passe sur le terrain... #COVID19 #Québec Hay q hacer muchas mas pruebas para poder tener una mejor información. No estamos contando cantidad de personas que han tenido y superado el virus, unas por q los enfermos no dicen se medican, por miedo, otra, las eps no estan buscando los contagiados. #coronavirus #COVID19  So how can we trust any government action taken in FL, based on numbers, if labs are not reporting negative tests, thus inflating positive rates? #thisisnotscience #COVID19  No COVID19 is the disease, the virus is a SARS, specifically SARS-CoV-2 https://www.who.int/emergencies/diseases/novel-coronavirus-2019/technical-guidance/naming-the-coronavirus-disease-(covid-2019)-and-the-virus-that-causes-it Can you get Covid19 by eating this rotten piece of garbage? Queremos hacerle un llamado de conciencia todos nuestros aliados para que junto a sus equipos de trabajo y nosotros, velemos por la salud y estabilidad de nuestra industria. . #TWLab #TheWebCamLab #LaFórmulaDelÉxito #NosCuidamosJuntos #Coronavirus #Covid19 Even if you don’t die you could infect someone who could die......you could still have a stroke, have permanent lung/heart damage, etc etc and we don’t even know how covid19 will affect us long term or even the next generation. The least you can do is wear a FUCKING MASK! in bending @thepmo, @GladysB &amp; @DanielAndrewsMP to their #Elimination/#Eradaction of #Covid19 Strategy will, which @AnnastaciaMP, @MarkMcGowanMP, @marshall_steven &amp; @PeterGutwein will with @jacindaardern &amp; @winstonpeters\\'s help, if @SkrooTurner, it can be done, as it #Auspol Nice to get back on the @highlinenyc today - it’s been closed for four months because of #COVID19 - reopens Thursday! #HighLine #NYC #Parks @NY1 @NYCParks Hi. sorry to barge but im trying to get some help, im a single mom i don\\'t have enough money to buy my baby needs and also groceries food. i don\\'t have work since march due to covid19 i hope you could help me. any small amount is such a big help http://paypal.me/annapenaranda03  #penkua #phgkoi #cmsphg #jabatanpenerangan #kkmm #sayangimalaysiaku #stayathome #covid19 #julai2020 Yes COVID-19 is not a hoax. Yes Masks work. Don’t be selfish and wear a damn mask #COVID19 #californialockdown Wear your damn mask, socially distance yourself, and wash your hands. This isn\\'t hard. #COVID19 #coronavirus @JoeBiden Mr. Biden, I suggest as part of heath care, it’s not just #COVID19. You remind folks of the drop in anxiety, high blood pressure, loss of appetite, etc. that your win will provide. Saves America billions. @realDonaldTrump #Biden Yeah, @VP, we do follow the CDC guidelines over your magical #COVID19 thinking. Assalamualaikum moms! Ini testimoni masker dewasa 2ply+vasilin dan kain bagian luar menggunakan kain teknologi water resistant dijamin termurah nih moms masker 3D cuma 15K aja #maskermalang #masker3d #jualmasker #malang #COVID19 #maskerkain #masker New post, on doubling time and covid19 in Arizona https://ironyofprint.com/2020/07/14/96/ with special thanks to @hathitrust whose Emergency Temporary Access Service made it possible for me to consult Kenneth Watt\\'s Titanic Effect from afar Atención integral a la pandemia #COVID19 en San Salvador #SSesTuyo @emuyshondt Breaking: Melbourne 238 cases and 3 deaths. Scott Morrison: “Lockdown is not an option, businesses gotta keep businessing\" #COVID19 #COVID19Vic Oy. Newborn gets #COVID19 from pregnant 23-year old mother via placenta. Vertical transmission case from France. SARS-CoV-2 caused: (1) maternal viremia (2) placental infection &amp; placental inflammation (3) neonatal viremia following placental infection  \"Could a person recover from #COVID19 only to get #infected again right away? A recent primate #study suggests that it’s not likely.\" What\\'s it like to have the Coronavirus? Roxanne & Davis, interviewed someone who\\'s recovering from COVID-19, here\\'s his experience. #RGV #COVID19 #coronavirus https://soundcloud.com/kurv-710/07-18-20-arturo-gurjardo-jr-on-the-drive-home Si yo que reprobé estadística le entendí a este hilo, ustedes no tendrán problema en ver cómo los \"Casos Acumulados\" y \"Nuevos Casos\" nos enseñan más de lo que se ve a simple vista. #COVID19  #coronavirus #COVID19 #StayAtHome #lockdown #Lagos #Italy #Spain #Nigeria #Ghana #US #UK #5GRadiationScare #5GRollout #CellularTerrorism #WorldHealthDay #SingleLadiesChallenge #BlackLivesMatters #BuhariResign #5G #PastorChris #LoveworldNext #iStandWithPastorchris READ  Pls join \\u200b@womensfundmiami\\u200b in their “Domestic Violence in Times of COVID-19” awareness campaign, to remind people trapped in abuse that help is available 24/7 by calling or texting 305-285-5900. Pls RT &amp; donate if you can. #DomesticViolence #COVID19 DEAR GHANAIANS : I warned you! It is NOT time for school Now over 50 kids and staff infected with CORONAVIRUSin one school alone. #COVID19 #StayAtHomeSaveLives #StayHome #StayAtHome #ijcovid19 #drkemiolunloyo COVID19 Corruption: Wealthy And Well Connected Get Rich While People Suffer - http://PopularResistance.Org https://popularresistance.org/covid-corruption-wealthy-and-well-connected-get-rich/ via @PopResistance Ring Around the Rosie/Ring-A-Ring-A-Roses is about the Black Plague In Flew Enza is about the Spanish Flu Kinda wonder what creepy children’s song will be written about #COVID19 Nos da garantia: la diputada y compañera @mariseka asume la presidencia de la comisión investigadora por las muertes a causa del #COVID19, la verdad debe salir a la luz pública y esta noticia nos acerca a la luz que necesitamos en tiempos de sombras y oscurantismo. There is no justification whatsoever for having zupco as a national public transport. It\\'s a failure and is now a leading Covid19 transmission medium. Government does not care for us After behaving a bit like Titanic, bobbing after the lethal iceberg hit, I think that US$has initiated its monotonic decline to DXY=85 or lower, due to leadership issues of covid19 handling.  If we keep halving the halves ... we might just cure COVID19. #HuilaCreceSinCoronavirus #GobernacionDelHuila #MasQueDeportes Cinco nuevos casos de #COVID19 en el Huila y 11 nuevas recuperaciones.  अगर मैं आगे पढ़ता हूं तो हो सकता है कि मैं मर जाऊं, और पीछे हटू तो मेरे तिरंगे का अपमान है! इसलिए मुझे हमेशा आगे बढ़ना ही रहना होगा.. भारतीय सेना #IndianArmy #COVID19 #SushantSinghRajput #ModiRocksChinShocked #IndiaPushesBackChina #14Jul Desde la Gran Caracas el.@GNB_Capital les desea un FelizMartes al pueblo recuerda que al salir de casa tomas las medidas preventivas ante el covid19.@Lockiby1 .@GNBGDJFL .@FabioZavarsep .@GNBoficial #FANB #PrevenciónEsSalud GNByPuebloVenceremos Texas hospitals are running out of drugs, beds, ventilators and even staff #Texas #COVID19  1. La epidemia de #COVID19 en #México no ha terminado. La #CEDHTLAX el #PresidenteVíctorManuelCid y los #JovenesConstruyendoElFuturo trabajan para mantenerte informado CONTIGO A DISTANCIA. #SanaDistancia #tiktokdown #Tlaxcala #14Julio COVID19 _ ARGENTINA Dr Daniel Gollán Ministro de Salud de la Provincia de Buenos Aires Con la inversión que se hizo en Salud SE AUMENTARON LAS CAMAS de 2300 a 4.000 Queda el 40% de disponibilidad Felicitaciones Los casos de hoy son los contagiados hace dos semanas  And one died from Covid19  California reports 8 new cases bringing total confirmed cases there to 344,889 and 7,213 total deaths, with 8,852 new cases and 117 new deaths reported today. #CoronaVirus #Covid19 #CoronaVirusOutbreak '"
      ]
     },
     "execution_count": 2,
     "metadata": {},
     "output_type": "execute_result"
    }
   ],
   "source": [
    " text = \"\"\n",
    " text_tweets = get_tweets(\"covid19\",200)\n",
    " length = len(text_tweets)\n",
    "\n",
    " for i in range(0, length):\n",
    "     text = text_tweets[i][0] + \" \" + text\n",
    "text"
   ]
  },
  {
   "cell_type": "markdown",
   "metadata": {},
   "source": [
    "### ecriture des tweet dans le fichier read.txt"
   ]
  },
  {
   "cell_type": "code",
   "execution_count": 3,
   "metadata": {},
   "outputs": [],
   "source": [
    " fichier_texte = open(\"read.txt\",  \"w\", encoding='utf-8' )\n",
    " fichier_texte.write(text) \n",
    " fichier_texte.close()"
   ]
  },
  {
   "cell_type": "markdown",
   "metadata": {},
   "source": [
    "### ouverture et lecture du fichier read.txt qui contient les tweets"
   ]
  },
  {
   "cell_type": "code",
   "execution_count": 4,
   "metadata": {},
   "outputs": [],
   "source": [
    "\n",
    "text = open('read.txt', encoding='utf-8').read()"
   ]
  },
  {
   "cell_type": "markdown",
   "metadata": {},
   "source": [
    "### conversion en minuscules"
   ]
  },
  {
   "cell_type": "code",
   "execution_count": 5,
   "metadata": {},
   "outputs": [],
   "source": [
    "\n",
    "lower_case = text.lower()"
   ]
  },
  {
   "cell_type": "markdown",
   "metadata": {},
   "source": [
    "### Suppression des ponctuations"
   ]
  },
  {
   "cell_type": "code",
   "execution_count": 6,
   "metadata": {},
   "outputs": [],
   "source": [
    "\n",
    "cleaned_text = lower_case.translate(str.maketrans('', '', string.punctuation))"
   ]
  },
  {
   "cell_type": "markdown",
   "metadata": {},
   "source": [
    "### Utilisation word_tokenize plus rapide que split ()"
   ]
  },
  {
   "cell_type": "code",
   "execution_count": 7,
   "metadata": {},
   "outputs": [],
   "source": [
    "\n",
    "tokenized_words = word_tokenize(cleaned_text, \"english\")"
   ]
  },
  {
   "cell_type": "markdown",
   "metadata": {},
   "source": [
    "### Suppression Stop Words"
   ]
  },
  {
   "cell_type": "code",
   "execution_count": 8,
   "metadata": {},
   "outputs": [],
   "source": [
    "\n",
    "final_words = []\n",
    "for word in tokenized_words:\n",
    "    if word not in stopwords.words('english'):\n",
    "        final_words.append(word)"
   ]
  },
  {
   "cell_type": "markdown",
   "metadata": {},
   "source": [
    "### Lemmatization - From plural to single + Base form of a word (example better-> good)"
   ]
  },
  {
   "cell_type": "code",
   "execution_count": 9,
   "metadata": {},
   "outputs": [],
   "source": [
    "lemma_words = []\n",
    "for word in final_words:\n",
    "    word = WordNetLemmatizer().lemmatize(word)\n",
    "    lemma_words.append(word)\n",
    "\n",
    "emotion_list = []"
   ]
  },
  {
   "cell_type": "markdown",
   "metadata": {},
   "source": [
    "## NLP Emotion Algorithm\n",
    "##### 1) Check if the word in the final word list is also present in emotion.txt\n",
    "#####  - open the emotion file\n",
    "#####  - Loop through each line and clear it\n",
    "#####  - Extract the word and emotion using split\n",
    "\n",
    "##### 2) If word is present -> Add the emotion to emotion_list\n",
    "##### 3) Finally count each emotion in the emotion list"
   ]
  },
  {
   "cell_type": "code",
   "execution_count": 10,
   "metadata": {},
   "outputs": [
    {
     "name": "stdout",
     "output_type": "stream",
     "text": [
      "[' powerless', ' adequate', ' attached', ' free', ' happy', ' entitled', ' happy', ' lost', ' sad', ' free', ' adequate', ' sad', ' sad', ' entitled', ' alone', ' happy', ' happy', ' sad', ' entitled']\n",
      "Counter({' happy': 4, ' sad': 4, ' entitled': 3, ' adequate': 2, ' free': 2, ' powerless': 1, ' attached': 1, ' lost': 1, ' alone': 1})\n"
     ]
    }
   ],
   "source": [
    "with open('emotions.txt', 'r') as file:\n",
    "    for line in file:\n",
    "        clear_line = line.replace(\"\\n\", '').replace(\",\", '').replace(\"'\", '').strip()\n",
    "        word, emotion = clear_line.split(':')\n",
    "\n",
    "        if word in lemma_words:\n",
    "            emotion_list.append(emotion)\n",
    "\n",
    "print(emotion_list)\n",
    "w = Counter(emotion_list)\n",
    "print(w)"
   ]
  },
  {
   "cell_type": "markdown",
   "metadata": {},
   "source": [
    "### Definition de la fontction sentiment_analyse()"
   ]
  },
  {
   "cell_type": "code",
   "execution_count": 11,
   "metadata": {},
   "outputs": [],
   "source": [
    "def sentiment_analyse(sentiment_text):\n",
    "    score = SentimentIntensityAnalyzer().polarity_scores(sentiment_text)\n",
    "    if score['neg'] > score['pos']:\n",
    "        print(\"Negative Sentiment\")\n",
    "    elif score['neg'] < score['pos']:\n",
    "        print(\"Positive Sentiment\")\n",
    "    else:\n",
    "        print(\"Neutral Sentiment\")"
   ]
  },
  {
   "cell_type": "markdown",
   "metadata": {},
   "source": [
    "### Call sentiment_analyse()"
   ]
  },
  {
   "cell_type": "code",
   "execution_count": 12,
   "metadata": {},
   "outputs": [
    {
     "name": "stdout",
     "output_type": "stream",
     "text": [
      "Positive Sentiment\n"
     ]
    }
   ],
   "source": [
    "sentiment_analyse(cleaned_text)"
   ]
  },
  {
   "cell_type": "markdown",
   "metadata": {},
   "source": [
    "### Tracer les émotions sur le graphique"
   ]
  },
  {
   "cell_type": "code",
   "execution_count": 13,
   "metadata": {},
   "outputs": [
    {
     "data": {
      "image/png": "[encoded data removed]",
      "text/plain": [
       "<Figure size 432x288 with 1 Axes>"
      ]
     },
     "metadata": {
      "needs_background": "light"
     },
     "output_type": "display_data"
    }
   ],
   "source": [
    "fig, ax1 = plt.subplots()\n",
    "ax1.bar(w.keys(), w.values())\n",
    "fig.autofmt_xdate()\n",
    "plt.savefig('graph.png')\n",
    "plt.show()"
   ]
  },
  {
   "cell_type": "code",
   "execution_count": null,
   "metadata": {},
   "outputs": [],
   "source": []
  }
 ],
 "metadata": {
  "kernelspec": {
   "display_name": "Python 3",
   "language": "python",
   "name": "python3"
  },
  "language_info": {
   "codemirror_mode": {
    "name": "ipython",
    "version": 3
   },
   "file_extension": ".py",
   "mimetype": "text/x-python",
   "name": "python",
   "nbconvert_exporter": "python",
   "pygments_lexer": "ipython3",
   "version": "3.8.4"
  }
 },
 "nbformat": 4,
 "nbformat_minor": 4
}
